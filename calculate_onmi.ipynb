{
 "cells": [
  {
   "cell_type": "code",
   "execution_count": 1,
   "metadata": {},
   "outputs": [
    {
     "name": "stderr",
     "output_type": "stream",
     "text": [
      "C:\\Users\\ACT\\AppData\\Local\\Temp\\ipykernel_17180\\131147891.py:2: DeprecationWarning: \n",
      "Pyarrow will become a required dependency of pandas in the next major release of pandas (pandas 3.0),\n",
      "(to allow more performant data types, such as the Arrow string type, and better interoperability with other libraries)\n",
      "but was not found to be installed on your system.\n",
      "If this would cause problems for you,\n",
      "please provide us feedback at https://github.com/pandas-dev/pandas/issues/54466\n",
      "        \n",
      "  import pandas as pd\n"
     ]
    },
    {
     "name": "stdout",
     "output_type": "stream",
     "text": [
      "Note: to be able to use all crisp methods, you need to install some additional packages:  {'infomap', 'leidenalg', 'graph_tool', 'bayanpy', 'wurlitzer'}\n",
      "Note: to be able to use all crisp methods, you need to install some additional packages:  {'leidenalg', 'wurlitzer', 'infomap'}\n"
     ]
    }
   ],
   "source": [
    "import numpy as np\n",
    "import pandas as pd\n",
    "from cdlib import algorithms\n",
    "from cdlib import evaluation\n",
    "from cdlib import NodeClustering"
   ]
  },
  {
   "cell_type": "code",
   "execution_count": 2,
   "metadata": {},
   "outputs": [],
   "source": [
    "df1=pd.read_csv('./dataset/ogbn_proteins/raw/edge.csv.gz')\n",
    "df2=pd.read_csv('./dataset/ogbn_proteins/raw/node_species.csv.gz')"
   ]
  },
  {
   "cell_type": "code",
   "execution_count": 3,
   "metadata": {},
   "outputs": [],
   "source": [
    "species_dict={}\n",
    "for species_id in df2['3702'].unique():\n",
    "    species_dict[species_id]=[]\n",
    "node_id=1\n",
    "for species_id in df2['3702']:\n",
    "    species_dict[species_id].append(node_id)\n",
    "    node_id+=1"
   ]
  },
  {
   "cell_type": "code",
   "execution_count": 4,
   "metadata": {},
   "outputs": [],
   "source": [
    "import networkx as nx\n",
    "species=[4932,511145,7227,6239,9606]\n",
    "nodes=[]\n",
    "for species_id in species:\n",
    "    nodes=nodes+species_dict[species_id]\n",
    "G = nx.from_pandas_edgelist(df1, \"1\", \"96401\")\n",
    "G=nx.subgraph(G,nodes)"
   ]
  },
  {
   "cell_type": "code",
   "execution_count": 5,
   "metadata": {},
   "outputs": [],
   "source": [
    "communities = algorithms.slpa(G,  t=21, r=0.1)"
   ]
  },
  {
   "cell_type": "code",
   "execution_count": 6,
   "metadata": {},
   "outputs": [],
   "source": [
    "grount_truth_coms=[]\n",
    "for sp in species:\n",
    "    grount_truth_coms.append(species_dict[sp])\n",
    "grount_truth_communities=NodeClustering(grount_truth_coms,G)"
   ]
  },
  {
   "cell_type": "code",
   "execution_count": 7,
   "metadata": {},
   "outputs": [
    {
     "name": "stdout",
     "output_type": "stream",
     "text": [
      "MatchingResult(score=0.7519854690890818, std=None)\n"
     ]
    }
   ],
   "source": [
    "onmi=evaluation.overlapping_normalized_mutual_information_LFK(communities,grount_truth_communities)\n",
    "print(onmi)"
   ]
  }
 ],
 "metadata": {
  "kernelspec": {
   "display_name": "Python 3",
   "language": "python",
   "name": "python3"
  },
  "language_info": {
   "codemirror_mode": {
    "name": "ipython",
    "version": 3
   },
   "file_extension": ".py",
   "mimetype": "text/x-python",
   "name": "python",
   "nbconvert_exporter": "python",
   "pygments_lexer": "ipython3",
   "version": "3.11.0"
  }
 },
 "nbformat": 4,
 "nbformat_minor": 2
}
