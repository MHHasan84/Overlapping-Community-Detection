{
 "cells": [
  {
   "cell_type": "code",
   "execution_count": 1,
   "metadata": {},
   "outputs": [
    {
     "name": "stderr",
     "output_type": "stream",
     "text": [
      "c:\\Python311\\Lib\\site-packages\\torch\\__init__.py:614: UserWarning: torch.set_default_tensor_type() is deprecated as of PyTorch 2.1, please use torch.set_default_dtype() and torch.set_default_device() as alternatives. (Triggered internally at ..\\torch\\csrc\\tensor\\python_tensor.cpp:453.)\n",
      "  _C._set_default_tensor_type(t)\n"
     ]
    }
   ],
   "source": [
    "import nocd\n",
    "from nocd.utils import *\n",
    "import matplotlib.pyplot as plt\n",
    "import numpy as np\n",
    "import scipy.sparse as sp\n",
    "import torch\n",
    "import torch.nn as nn\n",
    "import torch.nn.functional as F\n",
    "from nocd.nn import models_deep\n",
    "from nocd.utils import to_sparse_tensor\n",
    "from cdlib import evaluation\n",
    "from sklearn.preprocessing import normalize\n",
    "import networkx as nx\n",
    "from scipy.sparse import csr_matrix\n",
    "%matplotlib inline\n",
    "\n",
    "torch.set_default_tensor_type(torch.cuda.FloatTensor)"
   ]
  },
  {
   "cell_type": "markdown",
   "metadata": {},
   "source": [
    "Generate A"
   ]
  },
  {
   "cell_type": "code",
   "execution_count": 2,
   "metadata": {},
   "outputs": [],
   "source": [
    "edges = np.loadtxt('./dataset/ogbn_proteins/raw/edge.csv.gz', delimiter=',', dtype=int)\n",
    "num_nodes = max(edges.max(), edges.min()) + 1\n",
    "adjacency_matrix = csr_matrix((np.ones(edges.shape[0]), (edges[:, 0], edges[:, 1])), shape=(num_nodes, num_nodes))"
   ]
  },
  {
   "cell_type": "markdown",
   "metadata": {},
   "source": [
    "Generate X"
   ]
  },
  {
   "cell_type": "code",
   "execution_count": 3,
   "metadata": {},
   "outputs": [],
   "source": [
    "node_labels = np.loadtxt('./dataset/ogbn_proteins/raw/node-label.csv.gz', delimiter=',', dtype=int)\n",
    "num_rows = node_labels.shape[0]\n",
    "num_columns = node_labels.shape[1]\n",
    "label_matrix = csr_matrix((np.ones(num_rows), (node_labels[:, 0], node_labels[:, 1])), shape=(num_rows, num_columns))"
   ]
  },
  {
   "cell_type": "markdown",
   "metadata": {},
   "source": [
    "Generate Z_dt"
   ]
  },
  {
   "cell_type": "code",
   "execution_count": 4,
   "metadata": {},
   "outputs": [],
   "source": [
    "species_data = np.loadtxt('./dataset/ogbn_proteins/raw/node_species.csv.gz', delimiter=',', dtype=str)\n",
    "unique_species = np.unique(species_data)\n",
    "unique_protein_ids = np.arange(len(species_data))\n",
    "affiliation_matrix = np.zeros((len(unique_protein_ids), len(unique_species)), dtype=int)\n",
    "for i, protein_id in enumerate(unique_protein_ids):\n",
    "    species = species_data[i]\n",
    "    j = np.where(unique_species == species)[0][0]\n",
    "    affiliation_matrix[i, j] = 1"
   ]
  },
  {
   "cell_type": "markdown",
   "metadata": {},
   "source": [
    "Generate orG"
   ]
  },
  {
   "cell_type": "code",
   "execution_count": 5,
   "metadata": {},
   "outputs": [],
   "source": [
    "import pandas as pd\n",
    "df1=pd.read_csv(\"./dataset/ogbn_proteins/raw/edge.csv.gz\")\n",
    "G = nx.from_pandas_edgelist(df1, \"1\", \"96401\")"
   ]
  },
  {
   "cell_type": "code",
   "execution_count": 6,
   "metadata": {},
   "outputs": [],
   "source": [
    "A=adjacency_matrix\n",
    "X=label_matrix\n",
    "Z_gt=affiliation_matrix\n",
    "orG = G\n",
    "N, K = Z_gt.shape"
   ]
  },
  {
   "cell_type": "code",
   "execution_count": 7,
   "metadata": {},
   "outputs": [],
   "source": [
    "def mod_overlap(Z, G_w, thresh=0.5):\n",
    "    from cdlib import NodeClustering\n",
    "    Z_pred = Z.cpu().detach().numpy() > thresh\n",
    "    communities = coms_matrix_to_list(Z_pred)\n",
    "    new_com = []\n",
    "    for ls in communities:\n",
    "        if(len(ls)==0):\n",
    "            continue\n",
    "        new_com.append(ls)\n",
    "    coms = NodeClustering(new_com, G_w)\n",
    "    mod = evaluation.modularity_overlap(G_w, coms)\n",
    "    return mod.score"
   ]
  },
  {
   "cell_type": "code",
   "execution_count": 8,
   "metadata": {},
   "outputs": [
    {
     "name": "stdout",
     "output_type": "stream",
     "text": [
      "non sharing edges:  7676421\n",
      "in total edges:  39561251\n"
     ]
    },
    {
     "ename": "MemoryError",
     "evalue": "",
     "output_type": "error",
     "traceback": [
      "\u001b[1;31m---------------------------------------------------------------------------\u001b[0m",
      "\u001b[1;31mMemoryError\u001b[0m                               Traceback (most recent call last)",
      "Cell \u001b[1;32mIn[8], line 47\u001b[0m\n\u001b[0;32m     45\u001b[0m Gw \u001b[38;5;241m=\u001b[39m weight_imputation(A, Z_gt) \n\u001b[0;32m     46\u001b[0m \u001b[38;5;66;03m# orG = Gw\u001b[39;00m\n\u001b[1;32m---> 47\u001b[0m Aw \u001b[38;5;241m=\u001b[39m \u001b[43mnx\u001b[49m\u001b[38;5;241;43m.\u001b[39;49m\u001b[43mto_scipy_sparse_matrix\u001b[49m\u001b[43m(\u001b[49m\u001b[43mGw\u001b[49m\u001b[43m,\u001b[49m\u001b[38;5;28;43mformat\u001b[39;49m\u001b[38;5;241;43m=\u001b[39;49m\u001b[38;5;124;43m'\u001b[39;49m\u001b[38;5;124;43mcsr\u001b[39;49m\u001b[38;5;124;43m'\u001b[39;49m\u001b[43m)\u001b[49m\n\u001b[0;32m     48\u001b[0m \u001b[38;5;66;03m# print(Aw[6])\u001b[39;00m\n",
      "File \u001b[1;32m~\\AppData\\Roaming\\Python\\Python311\\site-packages\\networkx\\convert_matrix.py:874\u001b[0m, in \u001b[0;36mto_scipy_sparse_matrix\u001b[1;34m(G, nodelist, dtype, weight, format)\u001b[0m\n\u001b[0;32m    871\u001b[0m         G \u001b[38;5;241m=\u001b[39m G\u001b[38;5;241m.\u001b[39msubgraph(nodelist)\n\u001b[0;32m    873\u001b[0m index \u001b[38;5;241m=\u001b[39m \u001b[38;5;28mdict\u001b[39m(\u001b[38;5;28mzip\u001b[39m(nodelist, \u001b[38;5;28mrange\u001b[39m(nlen)))\n\u001b[1;32m--> 874\u001b[0m coefficients \u001b[38;5;241m=\u001b[39m \u001b[38;5;28;43mzip\u001b[39;49m\u001b[43m(\u001b[49m\n\u001b[0;32m    875\u001b[0m \u001b[43m    \u001b[49m\u001b[38;5;241;43m*\u001b[39;49m\u001b[43m(\u001b[49m\u001b[43m(\u001b[49m\u001b[43mindex\u001b[49m\u001b[43m[\u001b[49m\u001b[43mu\u001b[49m\u001b[43m]\u001b[49m\u001b[43m,\u001b[49m\u001b[43m \u001b[49m\u001b[43mindex\u001b[49m\u001b[43m[\u001b[49m\u001b[43mv\u001b[49m\u001b[43m]\u001b[49m\u001b[43m,\u001b[49m\u001b[43m \u001b[49m\u001b[43mwt\u001b[49m\u001b[43m)\u001b[49m\u001b[43m \u001b[49m\u001b[38;5;28;43;01mfor\u001b[39;49;00m\u001b[43m \u001b[49m\u001b[43mu\u001b[49m\u001b[43m,\u001b[49m\u001b[43m \u001b[49m\u001b[43mv\u001b[49m\u001b[43m,\u001b[49m\u001b[43m \u001b[49m\u001b[43mwt\u001b[49m\u001b[43m \u001b[49m\u001b[38;5;129;43;01min\u001b[39;49;00m\u001b[43m \u001b[49m\u001b[43mG\u001b[49m\u001b[38;5;241;43m.\u001b[39;49m\u001b[43medges\u001b[49m\u001b[43m(\u001b[49m\u001b[43mdata\u001b[49m\u001b[38;5;241;43m=\u001b[39;49m\u001b[43mweight\u001b[49m\u001b[43m,\u001b[49m\u001b[43m \u001b[49m\u001b[43mdefault\u001b[49m\u001b[38;5;241;43m=\u001b[39;49m\u001b[38;5;241;43m1\u001b[39;49m\u001b[43m)\u001b[49m\u001b[43m)\u001b[49m\n\u001b[0;32m    876\u001b[0m \u001b[43m\u001b[49m\u001b[43m)\u001b[49m\n\u001b[0;32m    877\u001b[0m \u001b[38;5;28;01mtry\u001b[39;00m:\n\u001b[0;32m    878\u001b[0m     row, col, data \u001b[38;5;241m=\u001b[39m coefficients\n",
      "\u001b[1;31mMemoryError\u001b[0m: "
     ]
    }
   ],
   "source": [
    "'''\n",
    "We generate hybrid graphs which real world graphs with imputated weight. \n",
    "Weights are imputation based on the assumption that \n",
    "To nodes sharing more communities would have higher weight. \n",
    "Base Idea: for each edge if two nodes share a community add 1 to the weight:\n",
    "'''\n",
    "# A_w = nx.to_scipy_sparse_matrix(G_w,format='csr')\n",
    "# G_w =  nx.from_numpy_matrix(A_w.toarray(), create_using=nx.Graph)\n",
    "\n",
    "\n",
    "def get_num_shared_community(u,v, Z, K):\n",
    "    count = 0\n",
    "    for k in range(K):\n",
    "        if(Z[u][k]>0 and Z[v][k]>0):\n",
    "            count +=1\n",
    "            \n",
    "    return count\n",
    "\n",
    "\n",
    "def weight_imputation(A, Z_gt):\n",
    "    Gw = G\n",
    "    Z = Z_gt\n",
    "    N, K = Z_gt.shape\n",
    "    \n",
    "    edges = Gw.edges()\n",
    "    \n",
    "    count = 0\n",
    "    for pair in edges:\n",
    "        u, v = pair\n",
    "        \n",
    "        Gw[v][u]['weight']=Gw[u][v]['weight'] = int(get_num_shared_community(u,v, Z, K ) + 1)\n",
    "        if(Gw[v][u]['weight']==1):\n",
    "            count+=1\n",
    "            \n",
    "    print(\"non sharing edges: \", count)\n",
    "    print(\"in total edges: \", Gw.number_of_edges())\n",
    "        \n",
    "    \n",
    "    return Gw\n",
    "        \n",
    "        \n",
    "        \n",
    "        \n",
    "        \n",
    "Gw = weight_imputation(A, Z_gt) \n",
    "# orG = Gw\n",
    "Aw = nx.to_scipy_sparse_matrix(Gw,format='csr')\n",
    "# print(Aw[6])\n",
    "    \n",
    "    "
   ]
  },
  {
   "cell_type": "code",
   "execution_count": 14,
   "metadata": {},
   "outputs": [
    {
     "ename": "KeyError",
     "evalue": "1",
     "output_type": "error",
     "traceback": [
      "\u001b[1;31m---------------------------------------------------------------------------\u001b[0m",
      "\u001b[1;31mKeyError\u001b[0m                                  Traceback (most recent call last)",
      "Cell \u001b[1;32mIn[14], line 1\u001b[0m\n\u001b[1;32m----> 1\u001b[0m \u001b[43mGw\u001b[49m\u001b[43m[\u001b[49m\u001b[38;5;241;43m1\u001b[39;49m\u001b[43m]\u001b[49m\u001b[43m[\u001b[49m\u001b[38;5;241;43m1\u001b[39;49m\u001b[43m]\u001b[49m\n",
      "File \u001b[1;32m~\\AppData\\Roaming\\Python\\Python311\\site-packages\\networkx\\classes\\coreviews.py:54\u001b[0m, in \u001b[0;36mAtlasView.__getitem__\u001b[1;34m(self, key)\u001b[0m\n\u001b[0;32m     53\u001b[0m \u001b[38;5;28;01mdef\u001b[39;00m \u001b[38;5;21m__getitem__\u001b[39m(\u001b[38;5;28mself\u001b[39m, key):\n\u001b[1;32m---> 54\u001b[0m     \u001b[38;5;28;01mreturn\u001b[39;00m \u001b[38;5;28;43mself\u001b[39;49m\u001b[38;5;241;43m.\u001b[39;49m\u001b[43m_atlas\u001b[49m\u001b[43m[\u001b[49m\u001b[43mkey\u001b[49m\u001b[43m]\u001b[49m\n",
      "\u001b[1;31mKeyError\u001b[0m: 1"
     ]
    }
   ],
   "source": [
    "Gw[1][1]"
   ]
  },
  {
   "cell_type": "code",
   "execution_count": 12,
   "metadata": {},
   "outputs": [
    {
     "data": {
      "text/plain": [
       "39561251"
      ]
     },
     "execution_count": 12,
     "metadata": {},
     "output_type": "execute_result"
    }
   ],
   "source": [
    "G.number_of_edges()"
   ]
  }
 ],
 "metadata": {
  "kernelspec": {
   "display_name": "Python 3",
   "language": "python",
   "name": "python3"
  },
  "language_info": {
   "codemirror_mode": {
    "name": "ipython",
    "version": 3
   },
   "file_extension": ".py",
   "mimetype": "text/x-python",
   "name": "python",
   "nbconvert_exporter": "python",
   "pygments_lexer": "ipython3",
   "version": "3.11.0"
  }
 },
 "nbformat": 4,
 "nbformat_minor": 2
}
