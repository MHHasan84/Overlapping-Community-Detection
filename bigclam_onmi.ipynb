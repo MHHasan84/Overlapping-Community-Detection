{
 "cells": [
  {
   "cell_type": "code",
   "execution_count": 1,
   "metadata": {},
   "outputs": [
    {
     "name": "stdout",
     "output_type": "stream",
     "text": [
      "Note: to be able to use all crisp methods, you need to install some additional packages:  {'infomap', 'wurlitzer', 'leidenalg', 'bayanpy', 'graph_tool'}\n",
      "Note: to be able to use all crisp methods, you need to install some additional packages:  {'infomap', 'wurlitzer', 'leidenalg'}\n"
     ]
    }
   ],
   "source": [
    "import networkx as nx\n",
    "from karateclub import BigClam\n",
    "from cdlib import algorithms\n",
    "from cdlib import evaluation\n",
    "from cdlib import NodeClustering\n",
    "import pandas as pd"
   ]
  },
  {
   "cell_type": "code",
   "execution_count": 2,
   "metadata": {},
   "outputs": [],
   "source": [
    "df1=pd.read_csv(\"./dataset/ogbn_proteins/raw/edge.csv.gz\")\n",
    "df2=pd.read_csv(\"./dataset/ogbn_proteins/raw/node_species.csv.gz\")"
   ]
  },
  {
   "cell_type": "code",
   "execution_count": 3,
   "metadata": {},
   "outputs": [],
   "source": [
    "G = nx.from_pandas_edgelist(df1, \"1\", \"96401\")"
   ]
  },
  {
   "cell_type": "code",
   "execution_count": 4,
   "metadata": {},
   "outputs": [],
   "source": [
    "species_proteins_dict = {}\n",
    "for species_id in df2['3702'].unique():\n",
    "    protein_ids = df2[df2['3702'] == species_id].index.tolist()\n",
    "    protein_ids = [element + 1 for element in protein_ids]\n",
    "    species_proteins_dict[species_id] = protein_ids\n",
    "ground_truth= NodeClustering(\n",
    "        list(species_proteins_dict.values()),\n",
    "        G,\n",
    "        \"Ground_Truth\",\n",
    "        method_parameters=None,\n",
    "        overlap=True,\n",
    "    )"
   ]
  },
  {
   "cell_type": "code",
   "execution_count": 5,
   "metadata": {},
   "outputs": [],
   "source": [
    "model = BigClam(dimensions=100)\n",
    "model.fit(G)"
   ]
  },
  {
   "cell_type": "code",
   "execution_count": 6,
   "metadata": {},
   "outputs": [],
   "source": [
    "memberships = model.get_memberships()\n",
    "community_list = {}\n",
    "for node, community in memberships.items():\n",
    "    if community not in community_list:\n",
    "        community_list[community] = [node]\n",
    "    else:\n",
    "        community_list[community].append(node)\n",
    "\n",
    "# Convert the dictionary to a list of lists\n",
    "coms = list(community_list.values())\n",
    "communities= NodeClustering(\n",
    "        coms,\n",
    "        G,\n",
    "        \"BigClam\",\n",
    "        method_parameters={\"dimension\": 112},\n",
    "        overlap=True,\n",
    "    )"
   ]
  },
  {
   "cell_type": "code",
   "execution_count": 7,
   "metadata": {},
   "outputs": [
    {
     "data": {
      "text/plain": [
       "MatchingResult(score=0.0011773402720736137, std=None)"
      ]
     },
     "execution_count": 7,
     "metadata": {},
     "output_type": "execute_result"
    }
   ],
   "source": [
    "nmi=evaluation.overlapping_normalized_mutual_information_MGH(ground_truth,communities)\n",
    "nmi"
   ]
  },
  {
   "cell_type": "code",
   "execution_count": 8,
   "metadata": {},
   "outputs": [
    {
     "data": {
      "text/plain": [
       "6"
      ]
     },
     "execution_count": 8,
     "metadata": {},
     "output_type": "execute_result"
    }
   ],
   "source": [
    "len(communities.communities)"
   ]
  }
 ],
 "metadata": {
  "kernelspec": {
   "display_name": "Python 3",
   "language": "python",
   "name": "python3"
  },
  "language_info": {
   "codemirror_mode": {
    "name": "ipython",
    "version": 3
   },
   "file_extension": ".py",
   "mimetype": "text/x-python",
   "name": "python",
   "nbconvert_exporter": "python",
   "pygments_lexer": "ipython3",
   "version": "3.11.0"
  }
 },
 "nbformat": 4,
 "nbformat_minor": 2
}
